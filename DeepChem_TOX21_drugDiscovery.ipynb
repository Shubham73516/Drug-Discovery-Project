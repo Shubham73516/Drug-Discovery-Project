{
  "cells": [
    {
      "cell_type": "markdown",
      "metadata": {
        "colab_type": "text",
        "id": "_xy0R6_hftgu"
      },
      "source": [
        "Installing Deepchem and importing packages"
      ]
    },
    {
      "cell_type": "code",
      "execution_count": 1,
      "metadata": {
        "colab": {},
        "colab_type": "code",
        "id": "E65fv8M7XG8y"
      },
      "outputs": [
        {
          "name": "stderr",
          "output_type": "stream",
          "text": [
            "Skipped loading some PyTorch models, missing a dependency. No module named 'torch'\n",
            "Skipped loading modules with pytorch-geometric dependency, missing a dependency. No module named 'torch'\n",
            "Skipped loading modules with pytorch-lightning dependency, missing a dependency. No module named 'torch'\n",
            "Skipped loading some Jax models, missing a dependency. jax requires jaxlib to be installed. See https://github.com/google/jax#installation for installation instructions.\n"
          ]
        }
      ],
      "source": [
        "from __future__ import division\n",
        "from __future__ import print_function\n",
        "from __future__ import unicode_literals\n",
        "\n",
        "import sys\n",
        "# sys.path.append('/usr/local/lib/python3.6/site-packages/')\n",
        "import deepchem as dc\n",
        "import numpy as np\n",
        "from deepchem.models import GraphConvModel\n",
        "import tensorflow as tf"
      ]
    },
    {
      "cell_type": "markdown",
      "metadata": {
        "colab_type": "text",
        "id": "jh2Mt870f3QJ"
      },
      "source": [
        "Loading Tox21 dataset\n"
      ]
    },
    {
      "cell_type": "markdown",
      "metadata": {
        "colab_type": "text",
        "id": "U_qcz9YFgAvx"
      },
      "source": [
        "Training and evaluating Graph Convolution model"
      ]
    },
    {
      "cell_type": "code",
      "execution_count": 2,
      "metadata": {
        "colab": {},
        "colab_type": "code",
        "id": "Ib31vqoOXeiR"
      },
      "outputs": [
        {
          "name": "stdout",
          "output_type": "stream",
          "text": [
            "Evaluating model\n",
            "Training ROC-AUC Score: 0.955082\n",
            "Validation ROC-AUC Score: 0.743186\n",
            "Test ROC-AUC Score: 0.719982\n"
          ]
        }
      ],
      "source": [
        "# Load Tox21 dataset\n",
        "tox21_tasks, tox21_datasets, transformers = dc.molnet.load_tox21(featurizer='GraphConv')\n",
        "train_dataset, valid_dataset, test_dataset = tox21_datasets\n",
        "# Training the Graph Convolution Network\n",
        "model = GraphConvModel(\n",
        "    len(tox21_tasks), batch_size=10, mode='classification')\n",
        "model.save_checkpoint(model_dir='model')\n",
        "# Set nb_epoch=10 for better results.\n",
        "model.fit(train_dataset, nb_epoch=50)\n",
        "\n",
        "metric = dc.metrics.Metric(\n",
        "    dc.metrics.roc_auc_score, np.mean, mode=\"classification\")\n",
        "\n",
        "# Evaluating the model\n",
        "print(\"Evaluating model\")\n",
        "train_scores = model.evaluate(train_dataset, [metric], transformers)\n",
        "print(\"Training ROC-AUC Score: %f\" % train_scores[\"mean-roc_auc_score\"])\n",
        "valid_scores = model.evaluate(valid_dataset, [metric], transformers)\n",
        "print(\"Validation ROC-AUC Score: %f\" % valid_scores[\"mean-roc_auc_score\"])\n",
        "test_scores = model.evaluate(test_dataset, [metric], transformers)\n",
        "print(\"Test ROC-AUC Score: %f\" % test_scores[\"mean-roc_auc_score\"])"
      ]
    },
    {
      "cell_type": "code",
      "execution_count": 3,
      "metadata": {},
      "outputs": [
        {
          "data": {
            "text/plain": [
              "['NR-AR',\n",
              " 'NR-AR-LBD',\n",
              " 'NR-AhR',\n",
              " 'NR-Aromatase',\n",
              " 'NR-ER',\n",
              " 'NR-ER-LBD',\n",
              " 'NR-PPAR-gamma',\n",
              " 'SR-ARE',\n",
              " 'SR-ATAD5',\n",
              " 'SR-HSE',\n",
              " 'SR-MMP',\n",
              " 'SR-p53']"
            ]
          },
          "execution_count": 3,
          "metadata": {},
          "output_type": "execute_result"
        }
      ],
      "source": [
        "tox21_tasks"
      ]
    },
    {
      "cell_type": "code",
      "execution_count": 4,
      "metadata": {},
      "outputs": [],
      "source": [
        "model_o = GraphConvModel(len(tox21_tasks), batch_size=10, mode='classification')\n",
        "model_o.restore(model_dir='model')"
      ]
    },
    {
      "cell_type": "code",
      "execution_count": 5,
      "metadata": {},
      "outputs": [
        {
          "data": {
            "text/plain": [
              "array([[0.53241   , 0.46758988],\n",
              "       [0.5019494 , 0.4980506 ],\n",
              "       [0.69397193, 0.30602807],\n",
              "       [0.1374464 , 0.8625536 ],\n",
              "       [0.9091573 , 0.09084266],\n",
              "       [0.8178917 , 0.18210834],\n",
              "       [0.9250099 , 0.07499005],\n",
              "       [0.5053398 , 0.49466026],\n",
              "       [0.53543377, 0.46456626],\n",
              "       [0.8011529 , 0.19884714],\n",
              "       [0.29281422, 0.7071858 ],\n",
              "       [0.41622493, 0.5837751 ]], dtype=float32)"
            ]
          },
          "execution_count": 5,
          "metadata": {},
          "output_type": "execute_result"
        }
      ],
      "source": [
        "model_o.predict(train_dataset)[0]"
      ]
    },
    {
      "attachments": {},
      "cell_type": "markdown",
      "metadata": {},
      "source": [
        "For example, let's say you have a dataset for predicting the toxicity of chemical compounds, and each data point is represented by a set of molecular descriptors. If your dataset has 10 molecular descriptors/features, the record array would be an array of length 10, where each element represents the value of a specific molecular descriptor for the data point you want to predict."
      ]
    },
    {
      "cell_type": "code",
      "execution_count": null,
      "metadata": {},
      "outputs": [],
      "source": []
    }
  ],
  "metadata": {
    "accelerator": "GPU",
    "colab": {
      "collapsed_sections": [],
      "name": "DeepChem_TOX21_drugDiscovery.ipynb",
      "provenance": []
    },
    "kernelspec": {
      "display_name": "Python 3",
      "name": "python3"
    },
    "language_info": {
      "codemirror_mode": {
        "name": "ipython",
        "version": 3
      },
      "file_extension": ".py",
      "mimetype": "text/x-python",
      "name": "python",
      "nbconvert_exporter": "python",
      "pygments_lexer": "ipython3",
      "version": "3.10.8"
    }
  },
  "nbformat": 4,
  "nbformat_minor": 0
}
